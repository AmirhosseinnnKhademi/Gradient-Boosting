{
  "metadata": {
    "kernelspec": {
      "display_name": "Python 3",
      "language": "python",
      "name": "python3"
    },
    "language_info": {
      "name": "python",
      "version": "3.10.14",
      "mimetype": "text/x-python",
      "codemirror_mode": {
        "name": "ipython",
        "version": 3
      },
      "pygments_lexer": "ipython3",
      "nbconvert_exporter": "python",
      "file_extension": ".py"
    },
    "kaggle": {
      "accelerator": "none",
      "dataSources": [
        {
          "sourceId": 10211,
          "databundleVersionId": 111096,
          "sourceType": "competition"
        }
      ],
      "isInternetEnabled": false,
      "language": "python",
      "sourceType": "notebook",
      "isGpuEnabled": false
    },
    "colab": {
      "provenance": []
    }
  },
  "nbformat_minor": 0,
  "nbformat": 4,
  "cells": [
    {
      "cell_type": "code",
      "source": [
        "import pandas as pd\n",
        "from sklearn.model_selection import train_test_split\n",
        "\n",
        "# Read the data\n",
        "X = pd.read_csv('../input/train.csv', index_col='Id')\n",
        "X_test_full = pd.read_csv('../input/test.csv', index_col='Id')\n",
        "\n",
        "# Remove rows with missing target, separate target from predictors\n",
        "X.dropna(axis=0, subset=['SalePrice'], inplace=True)\n",
        "y = X.SalePrice\n",
        "X.drop(['SalePrice'], axis=1, inplace=True)\n",
        "\n",
        "# Break off validation set from training data\n",
        "X_train_full, X_valid_full, y_train, y_valid = train_test_split(X, y, train_size=0.8, test_size=0.2,\n",
        "                                                                random_state=0)\n",
        "\n",
        "# \"Cardinality\" means the number of unique values in a column\n",
        "# Select categorical columns with relatively low cardinality (convenient but arbitrary)\n",
        "low_cardinality_cols = [cname for cname in X_train_full.columns if X_train_full[cname].nunique() < 10 and\n",
        "                        X_train_full[cname].dtype == \"object\"]\n",
        "\n",
        "# Select numeric columns\n",
        "numeric_cols = [cname for cname in X_train_full.columns if X_train_full[cname].dtype in ['int64', 'float64']]\n",
        "\n",
        "# Keep selected columns only\n",
        "my_cols = low_cardinality_cols + numeric_cols\n",
        "X_train = X_train_full[my_cols].copy()\n",
        "X_valid = X_valid_full[my_cols].copy()\n",
        "X_test = X_test_full[my_cols].copy()\n",
        "\n",
        "# One-hot encode the data (to shorten the code, we use pandas).\n",
        "# Using align, also works as a simple Imputation, where are missing values are replaced with zero!\n",
        "\n",
        "X_train = pd.get_dummies(X_train)\n",
        "X_valid = pd.get_dummies(X_valid)\n",
        "X_test = pd.get_dummies(X_test)\n",
        "X_train, X_valid = X_train.align(X_valid, join='left', axis=1)\n",
        "X_train, X_test = X_train.align(X_test, join='left', axis=1)"
      ],
      "metadata": {
        "execution": {
          "iopub.status.busy": "2024-10-31T17:56:59.804912Z",
          "iopub.execute_input": "2024-10-31T17:56:59.805433Z",
          "iopub.status.idle": "2024-10-31T17:57:00.022082Z",
          "shell.execute_reply.started": "2024-10-31T17:56:59.805383Z",
          "shell.execute_reply": "2024-10-31T17:57:00.020232Z"
        },
        "trusted": true,
        "id": "LsGaTruK2Y_5"
      },
      "execution_count": null,
      "outputs": []
    },
    {
      "cell_type": "markdown",
      "source": [
        "# Step 1: Build model\n",
        "\n",
        "### Part A\n",
        "\n",
        "In this step, you'll build and train your first model with gradient boosting.\n",
        "\n",
        "- Begin by setting `my_model_1` to an XGBoost model.  Use the [XGBRegressor](https://xgboost.readthedocs.io/en/latest/python/python_api.html#xgboost.XGBRegressor) class, and set the random seed to 0 (`random_state=0`).  **Leave all other parameters as default.**\n",
        "- Then, fit the model to the training data in `X_train` and `y_train`."
      ],
      "metadata": {
        "id": "t5MzkCOZ2Y_6"
      }
    },
    {
      "cell_type": "code",
      "source": [
        "from xgboost import XGBRegressor\n",
        "\n",
        "# Define the model\n",
        "my_model_1 = XGBRegressor(random_state=0)\n",
        "\n",
        "# Fit the model\n",
        "my_model_1.fit(X_train, y_train)"
      ],
      "metadata": {
        "execution": {
          "iopub.status.busy": "2024-10-31T18:02:22.766824Z",
          "iopub.execute_input": "2024-10-31T18:02:22.767314Z",
          "iopub.status.idle": "2024-10-31T18:02:23.354747Z",
          "shell.execute_reply.started": "2024-10-31T18:02:22.767271Z",
          "shell.execute_reply": "2024-10-31T18:02:23.353571Z"
        },
        "trusted": true,
        "id": "QTvesj5V2Y_6"
      },
      "execution_count": null,
      "outputs": []
    },
    {
      "cell_type": "markdown",
      "source": [
        "# **Advancement, using hyperparameter fine tuning**"
      ],
      "metadata": {
        "id": "78RllZ0M2Y_8"
      }
    },
    {
      "cell_type": "code",
      "source": [
        "import xgboost as xgb\n",
        "from xgboost import XGBRegressor\n",
        "from sklearn.metrics import mean_absolute_error\n",
        "from sklearn.model_selection import GridSearchCV, train_test_split\n",
        "from sklearn.model_selection import RandomizedSearchCV\n",
        "\n",
        "# Define the model\n",
        "model = XGBRegressor()\n",
        "\n",
        "# Define the parameter grid\n",
        "param_grid = {\n",
        "    'n_estimators': [100, 300, 500],\n",
        "    'learning_rate': [0.01, 0.05, 0.1, 0.2],\n",
        "    'max_depth': [3, 5, 10, None],\n",
        "    'min_child_weight': [1, 3, 5, None],\n",
        "    'subsample': [0.6, 0.8, 1.0],\n",
        "    'colsample_bytree': [0.6, 0.8, 1.0]\n",
        "}\n",
        "\n",
        "# Configure the RandomizedSearchCV\n",
        "random_search = RandomizedSearchCV(\n",
        "    estimator=model,\n",
        "    param_distributions=param_grid,\n",
        "    n_iter=20,  # Maximum number of iterations\n",
        "    scoring='neg_mean_absolute_error',\n",
        "    cv=3,\n",
        "    verbose=1,\n",
        "    random_state=42\n",
        ")\n",
        "\n",
        "# Fit RandomizedSearchCV\n",
        "random_search.fit(X_train, y_train)\n",
        "\n",
        "# Best parameters\n",
        "best_params = random_search.best_params_\n",
        "print(\"Best parameters:\", best_params)\n",
        "\n",
        "# Fit the model with best parameters\n",
        "optimized_model = XGBRegressor(**best_params)\n",
        "optimized_model.fit(X_train, y_train)\n",
        "\n",
        "# Get predictions\n",
        "predictions = optimized_model.predict(X_valid)\n",
        "\n",
        "# Calculate MAE\n",
        "mae = mean_absolute_error(predictions, y_valid)\n",
        "print(\"Mean Absolute Error:\", mae)"
      ],
      "metadata": {
        "execution": {
          "iopub.status.busy": "2024-10-31T18:21:13.445348Z",
          "iopub.execute_input": "2024-10-31T18:21:13.445923Z",
          "iopub.status.idle": "2024-10-31T18:22:26.585923Z",
          "shell.execute_reply.started": "2024-10-31T18:21:13.445876Z",
          "shell.execute_reply": "2024-10-31T18:22:26.584225Z"
        },
        "trusted": true,
        "id": "dgK4J1hA2Y_9",
        "outputId": "46c9e768-3d27-4b46-f286-c7df4b11cdea"
      },
      "execution_count": null,
      "outputs": [
        {
          "name": "stdout",
          "text": "Fitting 3 folds for each of 20 candidates, totalling 60 fits\nBest parameters: {'subsample': 0.8, 'n_estimators': 300, 'min_child_weight': None, 'max_depth': 5, 'learning_rate': 0.1, 'colsample_bytree': 0.8}\nMean Absolute Error: 16571.345034246577\n",
          "output_type": "stream"
        }
      ]
    },
    {
      "cell_type": "code",
      "source": [
        "# Preprocessing of test data, fit model\n",
        "preds_test = optimized_model.predict(X_test)"
      ],
      "metadata": {
        "execution": {
          "iopub.status.busy": "2024-10-31T18:25:33.261269Z",
          "iopub.execute_input": "2024-10-31T18:25:33.261777Z",
          "iopub.status.idle": "2024-10-31T18:25:33.351498Z",
          "shell.execute_reply.started": "2024-10-31T18:25:33.261730Z",
          "shell.execute_reply": "2024-10-31T18:25:33.350204Z"
        },
        "trusted": true,
        "id": "wtEXgZCQ2Y_9"
      },
      "execution_count": null,
      "outputs": []
    },
    {
      "cell_type": "code",
      "source": [
        "# Save test predictions to file\n",
        "output = pd.DataFrame({'Id': X_test.index,\n",
        "                       'SalePrice': preds_test})\n",
        "output.to_csv('submission.csv', index=False)"
      ],
      "metadata": {
        "execution": {
          "iopub.status.busy": "2024-10-31T18:25:35.191066Z",
          "iopub.execute_input": "2024-10-31T18:25:35.191528Z",
          "iopub.status.idle": "2024-10-31T18:25:35.209759Z",
          "shell.execute_reply.started": "2024-10-31T18:25:35.191483Z",
          "shell.execute_reply": "2024-10-31T18:25:35.208103Z"
        },
        "trusted": true,
        "id": "sOBcMsrh2Y_9"
      },
      "execution_count": null,
      "outputs": []
    }
  ]
}